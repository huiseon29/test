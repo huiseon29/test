{
 "cells": [
  {
   "cell_type": "code",
   "execution_count": 1,
   "id": "9113491f-0cbf-4e81-b5d1-cd9787f7698c",
   "metadata": {
    "tags": []
   },
   "outputs": [],
   "source": [
    "import pandas as pd\n",
    "import numpy as np\n",
    "from scipy.stats.mstats import winsorize\n",
    "from sklearn.model_selection import train_test_split\n",
    "from sklearn.preprocessing import RobustScaler"
   ]
  },
  {
   "cell_type": "code",
   "execution_count": 2,
   "id": "721a8bb8-f8b9-40e9-ab79-ecee2cc6d7cb",
   "metadata": {
    "tags": []
   },
   "outputs": [],
   "source": [
    "비상장 = pd.read_csv('../datasets/비상장_최종_데이터_셋.csv' ,index_col = 0)"
   ]
  },
  {
   "cell_type": "code",
   "execution_count": 3,
   "id": "f7eacdfa-26c5-4724-9411-e65bce989a1b",
   "metadata": {
    "tags": []
   },
   "outputs": [],
   "source": [
    "col_list = ['총자본증가율', '유형자산증가율', '유동자산증가율',\n",
    "       '재고자산증가율', '자기자본증가율', '매출액증가율', '매출액영업이익률', '매출액순이익률', '자기자본순이익률',\n",
    "       '자본금순이익률', '기업순이익률', '매출원가 대 매출액비율', '금융비용 대 총비용비율', '감가상각률',\n",
    "       '차입금평균이자율', '사내유보율', '평균배당률', '자기자본배당률', '배당성향', '자기자본구성비율', '비유동비율',\n",
    "       '비유동장기적합률', '유동비율', '당좌비율', '현금비율', '매출채권 대 매입채무비율', '부채비율', '유동부채비율',\n",
    "       '비유동부채비율', '차입금의존도', '자기자본회전률', '자본금회전률', '매입채무회전률', '재고자산회전률',\n",
    "       '비유동자산회전률', '유형자산회전율', '총자본투자효율', '설비투자효율', '기계투자효율', '부가가치율',\n",
    "       '노동소득분배율', '인건비(백만원)', '금융비용(백만원)', '임차료(백만원)', '조세공과(백만원)',\n",
    "       '감가상각비(백만원)', '부채대비영업활동현금흐름', '자본대비영업활동현금흐름', '매출액대비영업활동현금흐름',\n",
    "       '3개년가중평균매출액', '업력']"
   ]
  },
  {
   "cell_type": "code",
   "execution_count": 4,
   "id": "761fb2bb-e862-4a3d-9b1d-4bb88ade049b",
   "metadata": {
    "tags": []
   },
   "outputs": [],
   "source": [
    "X = 비상장\n",
    "y = 비상장['label']"
   ]
  },
  {
   "cell_type": "code",
   "execution_count": 5,
   "id": "c46aa715-a9c1-4555-a5b5-03b0869650f3",
   "metadata": {
    "tags": []
   },
   "outputs": [],
   "source": [
    "# 윈저라이징 및 스케일링 함수\n",
    "def preprocess_train_features(X_train, col_list):\n",
    "    X_train = X_train.copy()\n",
    "    \n",
    "    # 윈저라이징\n",
    "    for column in X_train[col_list].columns:\n",
    "        X_train[column] = winsorize(X_train[column], limits=[0.005, 0.005])\n",
    "    \n",
    "    # 스케일링 준비\n",
    "    scaler = RobustScaler()\n",
    "    # 숫자형 피처에만 스케일링 학습 및 적용\n",
    "    X_train[col_list] = scaler.fit_transform(X_train[col_list])\n",
    "    \n",
    "    return X_train, scaler\n",
    "\n",
    "def preprocess_test_features(X_test,col_list, scaler):\n",
    "    X_test = X_test.copy()\n",
    "    \n",
    "    # 숫자형 피처에만 스케일링 적용\n",
    "    X_test[col_list] = scaler.transform(X_test[col_list])\n",
    "    \n",
    "    return X_test"
   ]
  },
  {
   "cell_type": "code",
   "execution_count": 6,
   "id": "a1641348-b48c-4b1a-9728-505c4bea345c",
   "metadata": {
    "tags": []
   },
   "outputs": [],
   "source": [
    "# 훈련 세트와 테스트 세트 분할\n",
    "X_train, X_test, y_train, y_test = train_test_split(X, y, test_size=0.3, random_state=42, stratify=y)\n",
    "\n",
    "# 전처리 적용\n",
    "train_scaled, scaler = preprocess_train_features(X_train,col_list)\n",
    "test_scaled = preprocess_test_features(X_test,col_list, scaler)"
   ]
  },
  {
   "cell_type": "code",
   "execution_count": 7,
   "id": "99164e7a-2580-41ad-a9ab-9da44a0ebb62",
   "metadata": {
    "tags": []
   },
   "outputs": [],
   "source": [
    "train_scaled.to_csv('../datasets/비상장_train.csv', encoding='UTF-8-sig')\n",
    "test_scaled.to_csv('../datasets/비상장_test.csv', encoding='UTF-8-sig')"
   ]
  }
 ],
 "metadata": {
  "kernelspec": {
   "display_name": "Python 3 (ipykernel)",
   "language": "python",
   "name": "python3"
  },
  "language_info": {
   "codemirror_mode": {
    "name": "ipython",
    "version": 3
   },
   "file_extension": ".py",
   "mimetype": "text/x-python",
   "name": "python",
   "nbconvert_exporter": "python",
   "pygments_lexer": "ipython3",
   "version": "3.11.5"
  }
 },
 "nbformat": 4,
 "nbformat_minor": 5
}
