{
 "cells": [
  {
   "cell_type": "code",
   "execution_count": null,
   "id": "3c01567a-cfd8-4c8c-b1c4-7f34f8c37b52",
   "metadata": {
    "tags": []
   },
   "outputs": [],
   "source": [
    "import pandas as pd\n",
    "import matplotlib.pyplot as plt\n",
    "import seaborn as sns\n",
    "import warnings\n",
    "from matplotlib import font_manager, rc\n",
    "from sklearn.linear_model import Lasso\n",
    "from sklearn.model_selection import train_test_split\n",
    "from sklearn.metrics import mean_squared_error\n",
    "from scipy.stats.mstats import winsorize\n",
    "from sklearn.preprocessing import StandardScaler\n",
    "\n",
    "# 경고 메시지 무시\n",
    "warnings.filterwarnings('ignore')"
   ]
  },
  {
   "cell_type": "code",
   "execution_count": null,
   "id": "9341a26f-447c-4238-a903-c4c17e20a658",
   "metadata": {
    "tags": []
   },
   "outputs": [],
   "source": [
    "from scipy.stats import norm\n",
    "from scipy import stats\n",
    "from statsmodels.formula.api import ols\n",
    "from scipy.stats import kstest"
   ]
  },
  {
   "cell_type": "code",
   "execution_count": null,
   "id": "2180c9d7-3ed8-46f1-a91c-cbbb51b170a9",
   "metadata": {
    "tags": []
   },
   "outputs": [],
   "source": [
    "col_list = ['총자본증가율', '유형자산증가율', '유동자산증가율',\n",
    "       '재고자산증가율', '자기자본증가율', '매출액증가율', '매출액영업이익률', '매출액순이익률', '자기자본순이익률',\n",
    "       '자본금순이익률', '기업순이익률', '매출원가 대 매출액비율', '금융비용 대 총비용비율', '감가상각률',\n",
    "       '차입금평균이자율', '사내유보율', '평균배당률', '자기자본배당률', '배당성향', '자기자본구성비율', '비유동비율',\n",
    "       '비유동장기적합률', '유동비율', '당좌비율', '현금비율', '매출채권 대 매입채무비율', '부채비율', '유동부채비율',\n",
    "       '비유동부채비율', '차입금의존도', '자기자본회전률', '자본금회전률', '매입채무회전률', '재고자산회전률',\n",
    "       '비유동자산회전률', '유형자산회전율', '총자본투자효율', '설비투자효율', '기계투자효율', '부가가치율',\n",
    "       '노동소득분배율', '인건비(백만원)', '금융비용(백만원)', '임차료(백만원)', '조세공과(백만원)',\n",
    "       '감가상각비(백만원)', '부채대비영업활동현금흐름', '자본대비영업활동현금흐름', '매출액대비영업활동현금흐름',\n",
    "       '3개년가중평균매출액', '업력', 'label']\n",
    "\n",
    "num_list = ['총자본증가율', '유형자산증가율', '유동자산증가율',\n",
    "       '재고자산증가율', '자기자본증가율', '매출액증가율', '매출액영업이익률', '매출액순이익률', '자기자본순이익률',\n",
    "       '자본금순이익률', '기업순이익률', '매출원가 대 매출액비율', '금융비용 대 총비용비율', '감가상각률',\n",
    "       '차입금평균이자율', '사내유보율', '평균배당률', '자기자본배당률', '배당성향', '자기자본구성비율', '비유동비율',\n",
    "       '비유동장기적합률', '유동비율', '당좌비율', '현금비율', '매출채권 대 매입채무비율', '부채비율', '유동부채비율',\n",
    "       '비유동부채비율', '차입금의존도', '자기자본회전률', '자본금회전률', '매입채무회전률', '재고자산회전률',\n",
    "       '비유동자산회전률', '유형자산회전율', '총자본투자효율', '설비투자효율', '기계투자효율', '부가가치율',\n",
    "       '노동소득분배율', '인건비(백만원)', '금융비용(백만원)', '임차료(백만원)', '조세공과(백만원)',\n",
    "       '감가상각비(백만원)', '부채대비영업활동현금흐름', '자본대비영업활동현금흐름', '매출액대비영업활동현금흐름',\n",
    "       '3개년가중평균매출액', '업력',]"
   ]
  },
  {
   "cell_type": "code",
   "execution_count": null,
   "id": "980fbf6b-c9ba-4942-b5c3-9c9ff0b6870b",
   "metadata": {
    "tags": []
   },
   "outputs": [],
   "source": [
    "df_scaled = pd.read_csv('../datasets/비상장_train.csv', index_col = 0)[col_list]"
   ]
  },
  {
   "cell_type": "markdown",
   "id": "55be98a9-1d99-4716-b4e9-8ba45eed6b55",
   "metadata": {
    "tags": []
   },
   "source": [
    "### T-test(K-S통계량 검정)"
   ]
  },
  {
   "cell_type": "code",
   "execution_count": null,
   "id": "7a0cedb1-7f4c-4d28-a693-720d19acd2c9",
   "metadata": {
    "tags": []
   },
   "outputs": [],
   "source": [
    "for j in num_list:\n",
    "    a = kstest(df_scaled[j],'norm')\n",
    "    p = a.pvalue\n",
    "    print(j,a)"
   ]
  },
  {
   "cell_type": "code",
   "execution_count": null,
   "id": "09cf2f59-cf7a-4de0-8e15-aa296834c6a2",
   "metadata": {
    "tags": []
   },
   "outputs": [],
   "source": [
    "# 부도기업과 정상기업의 피처별 등분산비교 (정규성 가정으로 bartlett)\n",
    "Bad = df_scaled[df_scaled['label']== 1] #Existing Customer\n",
    "Good = df_scaled[df_scaled['label']== 0] #Attrited Customer\n",
    "\n",
    "c = []\n",
    "for i in df_scaled.drop('label', axis = 1):\n",
    "    # lresult = stats.levene(close[i], normal[i])\n",
    "    lresult = stats.bartlett(Bad[i], Good[i])\n",
    "    c.append([i,lresult[-1]])\n",
    "\n",
    "c= pd.DataFrame(c)\n",
    "c.columns=[\"피처값\",'F-test']\n",
    "c"
   ]
  },
  {
   "cell_type": "code",
   "execution_count": null,
   "id": "a4a13058-1234-4c56-92fd-c4c55060d81b",
   "metadata": {
    "tags": []
   },
   "outputs": [],
   "source": [
    "# F-test 결과 0.05 이상이면 homo 0.05 이하이면 hetero\n",
    "c[\"분산\"] =''\n",
    "c[\"T-test\"] =\"\"\n",
    "for i in c.index:\n",
    "    if c.loc[i,\"F-test\"]>=0.05:\n",
    "        c.loc[i,\"분산\"] = \"homo\"\n",
    "    else:\n",
    "        c.loc[i,\"분산\"] = \"hetero\"\n",
    "c"
   ]
  },
  {
   "cell_type": "code",
   "execution_count": null,
   "id": "df78339d-b4f1-4a80-9c1d-4135b17e38e1",
   "metadata": {
    "tags": []
   },
   "outputs": [],
   "source": [
    "c[c[\"분산\"]=='homo']"
   ]
  },
  {
   "cell_type": "code",
   "execution_count": null,
   "id": "71428429-6cf7-4fda-b69c-2e90cf8317dc",
   "metadata": {
    "tags": []
   },
   "outputs": [],
   "source": [
    "# homo 인 feature 는 student t-test, hetero이면 Welchs T-Test 진행\n",
    "c[\"분산\"] =''\n",
    "c[\"T-test\"] =\"\"\n",
    "for i in c.index:\n",
    "    if c.loc[i,\"F-test\"]>=0.05:\n",
    "        c.loc[i,\"분산\"] = \"homo\"\n",
    "        result = stats.ttest_ind(Bad[c.loc[i,\"피처값\"]], Good[c.loc[i,\"피처값\"]], equal_var=True)       ## equal_var = True Student T-test\n",
    "        c.loc[i,\"T-test\"] = result[-1]\n",
    "        print(Bad[c.loc[i,\"피처값\"]])\n",
    "    else:\n",
    "        c.loc[i,\"분산\"] = \"hetero\"\n",
    "        result = stats.ttest_ind(Bad[c.loc[i,\"피처값\"]], Good[c.loc[i,\"피처값\"]], equal_var=False)      ## equal_var = False Welchs T-Test\n",
    "        c.loc[i,\"T-test\"] = result[-1]\n",
    "c"
   ]
  },
  {
   "cell_type": "code",
   "execution_count": null,
   "id": "f3aff731-49aa-4263-94a9-7bc08994a29b",
   "metadata": {
    "tags": []
   },
   "outputs": [],
   "source": [
    "# 0.05 이상이면 유의미하지 않으므로 0.05 이하인 것만 추출\n",
    "d = c[c[\"T-test\"]<= 0.05]\n",
    "print(d.sort_values('T-test',ascending=False)[\"피처값\"].unique())\n",
    "print('count :',d.sort_values('T-test',ascending=False)[\"피처값\"].nunique())\n",
    "# d.sort_values('T-test',ascending=False)[\"피처값\"]"
   ]
  },
  {
   "cell_type": "code",
   "execution_count": null,
   "id": "f2953508-7f9f-4b02-82ca-5bb58690597f",
   "metadata": {
    "tags": []
   },
   "outputs": [],
   "source": [
    "t_test_feature = d.sort_values('T-test',ascending=True).dropna().iloc[:20,0].tolist()"
   ]
  },
  {
   "cell_type": "markdown",
   "id": "2d7c952c-7828-4ed8-a5f2-d56017592666",
   "metadata": {
    "tags": []
   },
   "source": [
    "### logit"
   ]
  },
  {
   "cell_type": "code",
   "execution_count": null,
   "id": "905602b9-01e2-45b4-9d66-60010e7dd4e0",
   "metadata": {
    "tags": []
   },
   "outputs": [],
   "source": [
    "from sklearn.linear_model import LogisticRegression\n",
    "from sklearn.feature_selection import SelectFromModel\n",
    "import statsmodels.api as sm\n",
    "import numpy as np\n",
    "lr_clf = LogisticRegression()\n",
    "\n",
    "feature = df_scaled.drop('label',axis=1)\n",
    "target = df_scaled['label']\n",
    "\n",
    "logit = SelectFromModel(LogisticRegression())\n",
    "logit.fit(feature, target)\n",
    "logit_support = logit.get_support()\n",
    "lr_feature = feature.loc[:,logit_support].columns.tolist()"
   ]
  },
  {
   "cell_type": "code",
   "execution_count": null,
   "id": "5c0fa1fa-2b74-4032-920b-5b12aab98782",
   "metadata": {
    "tags": []
   },
   "outputs": [],
   "source": [
    "print(lr_feature)\n",
    "print('count : ',len(lr_feature))"
   ]
  },
  {
   "cell_type": "markdown",
   "id": "a57a219d-ab1a-41ea-bd74-11de43fbc98a",
   "metadata": {
    "tags": []
   },
   "source": [
    "### Lasso"
   ]
  },
  {
   "cell_type": "code",
   "execution_count": null,
   "id": "3d447c0e-77ba-4414-954e-f4330a788ca7",
   "metadata": {
    "tags": []
   },
   "outputs": [],
   "source": [
    "from sklearn.linear_model import LogisticRegression\n",
    "from sklearn.feature_selection import SelectFromModel\n",
    "from sklearn.linear_model import Lasso"
   ]
  },
  {
   "cell_type": "code",
   "execution_count": null,
   "id": "02b2221d-c364-488d-86c4-1cd381a20950",
   "metadata": {
    "tags": []
   },
   "outputs": [],
   "source": [
    "# 12개 피처로 조정 C 값 조정\n",
    "lasso = SelectFromModel(LogisticRegression(C=0.002, penalty='l1',solver='liblinear'))\n",
    "lasso.fit(feature, target)\n",
    "lasso_support = lasso.get_support()\n",
    "lasso_feature = feature.loc[:,lasso_support].columns.tolist()"
   ]
  },
  {
   "cell_type": "code",
   "execution_count": null,
   "id": "8e684e5d-8bba-46be-91cd-2c65ab35cb99",
   "metadata": {
    "tags": []
   },
   "outputs": [],
   "source": [
    "print(lasso_feature)\n",
    "print('count : ',len(lasso_feature))"
   ]
  },
  {
   "cell_type": "markdown",
   "id": "c3972264-9310-453f-b120-82eea03f2a52",
   "metadata": {
    "tags": []
   },
   "source": [
    "### 후진제거법"
   ]
  },
  {
   "cell_type": "code",
   "execution_count": null,
   "id": "12435b71-1a0a-42dc-822e-b91fe77e7ccb",
   "metadata": {
    "tags": []
   },
   "outputs": [],
   "source": [
    "def backward_regression(X, y,\n",
    "                           initial_list=[], \n",
    "                           threshold_out = 0.0000000000000001, # P-value 임계값 (제거 기준)\n",
    "                           feature_list = num_list\n",
    "                           ):\n",
    "    \n",
    "    \n",
    "    sv_per_step = [] ## 각 스텝별로 선택된 변수들\n",
    "    adj_r_squared_list = [] ## 각 스텝별 수정된 결정계수\n",
    "    steps = [] ## 스텝\n",
    "    step = 0\n",
    "    included = feature_list\n",
    "    while True:\n",
    "        changed=False\n",
    "        model = sm.OLS(y, sm.add_constant(pd.DataFrame(X[feature_list]))).fit(disp=0)\n",
    "        # use all coefs except intercept\n",
    "        pvalues = model.pvalues.iloc[1:] # 각 feature의 P값을 의미함\n",
    "        worst_pval = pvalues.max()\t# P 값이 가장 높은 것 선정\n",
    "        if worst_pval > threshold_out:\n",
    "            changed=True\n",
    "            worst_feature = pvalues.idxmax()\n",
    "            included.remove(worst_feature)\n",
    "        \n",
    "        step += 1\n",
    "        steps.append(step)        \n",
    "        adj_r_squared = sm.OLS(y, sm.add_constant(pd.DataFrame(X[feature_list]))).fit(disp=0).rsquared_adj\n",
    "        adj_r_squared_list.append(adj_r_squared)\n",
    "        sv_per_step.append(included.copy())\n",
    "        \n",
    "        if not changed:\n",
    "            break\n",
    "      \n",
    "    return included,step,steps,adj_r_squared_list,sv_per_step\n",
    "\n",
    "backward_valriables_function,step,steps,adj_r_squared_list,sv_per_step = backward_regression(feature, target)"
   ]
  },
  {
   "cell_type": "code",
   "execution_count": null,
   "id": "b876f4f8-ba8e-45a3-a5aa-b0726a1d01d6",
   "metadata": {
    "tags": []
   },
   "outputs": [],
   "source": [
    "print(backward_valriables_function)\n",
    "print('count :',len(backward_valriables_function))"
   ]
  },
  {
   "cell_type": "markdown",
   "id": "3e1d0abe-9eac-45ed-83dc-d5a7897d2c86",
   "metadata": {
    "tags": []
   },
   "source": [
    "### T-test / Lasso / Logit / 후진제거법을 통한 후보피쳐"
   ]
  },
  {
   "cell_type": "code",
   "execution_count": null,
   "id": "9baf9180-edfe-45e4-91e9-8f89cc6b2dd2",
   "metadata": {
    "tags": []
   },
   "outputs": [],
   "source": [
    "from collections import Counter\n",
    "\n",
    "# 모든 리스트를 하나로 결합\n",
    "combined_list = t_test_feature + lasso_feature + lr_feature + backward_valriables_function\n",
    "\n",
    "# 항목의 등장 횟수 계산\n",
    "item_count = Counter(combined_list)\n",
    "\n",
    "# 두 번 이상 등장하는 항목 찾기\n",
    "duplicates = [item for item, count in item_count.items() if count > 2]\n",
    "\n",
    "print(duplicates)\n",
    "print('count : ' ,len(duplicates))"
   ]
  },
  {
   "cell_type": "markdown",
   "id": "26147902-1c71-4443-8e58-71e818d0307c",
   "metadata": {
    "tags": []
   },
   "source": [
    "### VIF, Corr, 도메인을 통한 최종피쳐 선택"
   ]
  },
  {
   "cell_type": "code",
   "execution_count": null,
   "id": "4edb4c62",
   "metadata": {},
   "outputs": [],
   "source": [
    "duplicates = ['매출액증가율', '자기자본증가율', \n",
    "              '매출액영업이익률', '매출액순이익률', '자기자본순이익률', '자본금순이익률', '기업순이익률', '금융비용 대 총비용비율', '사내유보율', \n",
    "              '자기자본구성비율', '당좌비율', '차입금의존도', \n",
    "              '인건비(백만원)', \n",
    "              '3개년가중평균매출액']"
   ]
  },
  {
   "cell_type": "code",
   "execution_count": null,
   "id": "7327c01f-5b13-4c1f-9533-9dbbfe41621b",
   "metadata": {
    "tags": []
   },
   "outputs": [],
   "source": [
    "def vif(data):\n",
    "    import pandas as pd\n",
    "    from statsmodels.stats.outliers_influence import variance_inflation_factor\n",
    "\n",
    "    # VIF 출력을 위한 데이터 프레임 형성\n",
    "    vif = pd.DataFrame()\n",
    "\n",
    "    # VIF 값과 각 Feature 이름에 대해 설정\n",
    "    vif[\"VIF Factor\"] = [variance_inflation_factor(data.values, i) for i in range(len(data.columns))]\n",
    "    vif[\"features\"] = data.columns \n",
    "                    \n",
    "    # VIF 값이 높은 순으로 정렬\n",
    "    vif = vif.sort_values(by=\"VIF Factor\", ascending=False)\n",
    "    vif = vif.reset_index().drop(columns='index')\n",
    "    \n",
    "    return vif"
   ]
  },
  {
   "cell_type": "code",
   "execution_count": null,
   "id": "61be5850",
   "metadata": {},
   "outputs": [],
   "source": [
    "vif(df_scaled[duplicates])"
   ]
  },
  {
   "cell_type": "code",
   "execution_count": null,
   "id": "4a458873",
   "metadata": {},
   "outputs": [],
   "source": [
    "# 폰트 설정\n",
    "plt.rcParams['font.family'] = 'AppleGothic'\n",
    "\n",
    "# 마이너스 부호 설정\n",
    "plt.rcParams['axes.unicode_minus'] = False"
   ]
  },
  {
   "cell_type": "code",
   "execution_count": null,
   "id": "be3b85ea-1651-4882-91c2-492b981dd37c",
   "metadata": {
    "tags": []
   },
   "outputs": [],
   "source": [
    "import pandas as pd\n",
    "import numpy as np\n",
    "import seaborn as sns\n",
    "import matplotlib.pyplot as plt\n",
    "\n",
    "df = df_scaled[duplicates]\n",
    "\n",
    "# 상관관계 계산\n",
    "correlation_matrix = df.corr()\n",
    "\n",
    "# 상관 행렬의 위쪽 삼각형에 대한 마스크 생성\n",
    "mask = np.triu(np.ones_like(correlation_matrix, dtype=bool))\n",
    "\n",
    "# 히트맵 생성, 마스크 적용\n",
    "plt.figure(figsize=(8, 6))  # 히트맵 크기 설정\n",
    "sns.heatmap(correlation_matrix, annot=True, cmap='coolwarm', fmt=\".2f\", linewidths=.5, mask=mask)\n",
    "plt.title('비상장외감_후보피쳐_heatmap')  # 히트맵 제목 설정\n",
    "plt.savefig('비상장외감_후보피쳐_heatmap.png')"
   ]
  },
  {
   "cell_type": "code",
   "execution_count": null,
   "id": "9ca6a833-2fc4-4716-998a-aadb28898cc5",
   "metadata": {},
   "outputs": [],
   "source": []
  }
 ],
 "metadata": {
  "kernelspec": {
   "display_name": "Python 3 (ipykernel)",
   "language": "python",
   "name": "python3"
  },
  "language_info": {
   "codemirror_mode": {
    "name": "ipython",
    "version": 3
   },
   "file_extension": ".py",
   "mimetype": "text/x-python",
   "name": "python",
   "nbconvert_exporter": "python",
   "pygments_lexer": "ipython3",
   "version": "3.11.5"
  }
 },
 "nbformat": 4,
 "nbformat_minor": 5
}
